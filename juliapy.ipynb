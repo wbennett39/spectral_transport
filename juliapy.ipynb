{
 "cells": [
  {
   "cell_type": "code",
   "execution_count": 23,
   "id": "ae5b48b1-aff2-4cb2-9815-23457be8535a",
   "metadata": {},
   "outputs": [],
   "source": [
    "# ENV[\"PYTHON\"] = \"/opt/anaconda3/bin/python3\"\n",
    "# using Pkg\n",
    "# Pkg.build(\"PyCall\")"
   ]
  },
  {
   "cell_type": "code",
   "execution_count": 25,
   "id": "c1e3483d-3fdb-4894-b0b7-113a01810411",
   "metadata": {},
   "outputs": [
    {
     "name": "stderr",
     "output_type": "stream",
     "text": [
      "\u001b[32m\u001b[1m  Activating\u001b[22m\u001b[39m new project at `/private/var/folders/rp/0g_84zc94fb0x5yys8v55x7m0000gq/T/jl_8AX19K`\n",
      "\u001b[32m\u001b[1m   Resolving\u001b[22m\u001b[39m package versions...\n",
      "\u001b[32m\u001b[1m    Updating\u001b[22m\u001b[39m `/private/var/folders/rp/0g_84zc94fb0x5yys8v55x7m0000gq/T/jl_8AX19K/Project.toml`\n",
      "  \u001b[90m[438e738f] \u001b[39m\u001b[92m+ PyCall v1.96.4\u001b[39m\n",
      "\u001b[32m\u001b[1m    Updating\u001b[22m\u001b[39m `/private/var/folders/rp/0g_84zc94fb0x5yys8v55x7m0000gq/T/jl_8AX19K/Manifest.toml`\n",
      "  \u001b[90m[8f4d0f93] \u001b[39m\u001b[92m+ Conda v1.10.2\u001b[39m\n",
      "  \u001b[90m[682c06a0] \u001b[39m\u001b[92m+ JSON v0.21.4\u001b[39m\n",
      "  \u001b[90m[1914dd2f] \u001b[39m\u001b[92m+ MacroTools v0.5.16\u001b[39m\n",
      "  \u001b[90m[69de0a69] \u001b[39m\u001b[92m+ Parsers v2.8.3\u001b[39m\n",
      "\u001b[33m⌅\u001b[39m \u001b[90m[aea7be01] \u001b[39m\u001b[92m+ PrecompileTools v1.2.1\u001b[39m\n",
      "  \u001b[90m[21216c6a] \u001b[39m\u001b[92m+ Preferences v1.4.3\u001b[39m\n",
      "  \u001b[90m[438e738f] \u001b[39m\u001b[92m+ PyCall v1.96.4\u001b[39m\n",
      "  \u001b[90m[81def892] \u001b[39m\u001b[92m+ VersionParsing v1.3.0\u001b[39m\n",
      "  \u001b[90m[0dad84c5] \u001b[39m\u001b[92m+ ArgTools v1.1.1\u001b[39m\n",
      "  \u001b[90m[56f22d72] \u001b[39m\u001b[92m+ Artifacts\u001b[39m\n",
      "  \u001b[90m[ade2ca70] \u001b[39m\u001b[92m+ Dates\u001b[39m\n",
      "  \u001b[90m[f43a241f] \u001b[39m\u001b[92m+ Downloads v1.6.0\u001b[39m\n",
      "  \u001b[90m[7b1f6079] \u001b[39m\u001b[92m+ FileWatching\u001b[39m\n",
      "  \u001b[90m[b27032c2] \u001b[39m\u001b[92m+ LibCURL v0.6.4\u001b[39m\n",
      "  \u001b[90m[8f399da3] \u001b[39m\u001b[92m+ Libdl\u001b[39m\n",
      "  \u001b[90m[37e2e46d] \u001b[39m\u001b[92m+ LinearAlgebra\u001b[39m\n",
      "  \u001b[90m[a63ad114] \u001b[39m\u001b[92m+ Mmap\u001b[39m\n",
      "  \u001b[90m[ca575930] \u001b[39m\u001b[92m+ NetworkOptions v1.2.0\u001b[39m\n",
      "  \u001b[90m[de0858da] \u001b[39m\u001b[92m+ Printf\u001b[39m\n",
      "  \u001b[90m[9a3f8284] \u001b[39m\u001b[92m+ Random\u001b[39m\n",
      "  \u001b[90m[ea8e919c] \u001b[39m\u001b[92m+ SHA v0.7.0\u001b[39m\n",
      "  \u001b[90m[9e88b42a] \u001b[39m\u001b[92m+ Serialization\u001b[39m\n",
      "  \u001b[90m[fa267f1f] \u001b[39m\u001b[92m+ TOML v1.0.3\u001b[39m\n",
      "  \u001b[90m[cf7118a7] \u001b[39m\u001b[92m+ UUIDs\u001b[39m\n",
      "  \u001b[90m[4ec0a83e] \u001b[39m\u001b[92m+ Unicode\u001b[39m\n",
      "  \u001b[90m[e66e0078] \u001b[39m\u001b[92m+ CompilerSupportLibraries_jll v1.1.1+0\u001b[39m\n",
      "  \u001b[90m[deac9b47] \u001b[39m\u001b[92m+ LibCURL_jll v8.4.0+0\u001b[39m\n",
      "  \u001b[90m[29816b5a] \u001b[39m\u001b[92m+ LibSSH2_jll v1.11.0+1\u001b[39m\n",
      "  \u001b[90m[c8ffd9c3] \u001b[39m\u001b[92m+ MbedTLS_jll v2.28.2+1\u001b[39m\n",
      "  \u001b[90m[14a3606d] \u001b[39m\u001b[92m+ MozillaCACerts_jll v2023.1.10\u001b[39m\n",
      "  \u001b[90m[4536629a] \u001b[39m\u001b[92m+ OpenBLAS_jll v0.3.23+4\u001b[39m\n",
      "  \u001b[90m[83775a58] \u001b[39m\u001b[92m+ Zlib_jll v1.2.13+1\u001b[39m\n",
      "  \u001b[90m[8e850b90] \u001b[39m\u001b[92m+ libblastrampoline_jll v5.8.0+1\u001b[39m\n",
      "  \u001b[90m[8e850ede] \u001b[39m\u001b[92m+ nghttp2_jll v1.52.0+1\u001b[39m\n",
      "\u001b[36m\u001b[1m        Info\u001b[22m\u001b[39m Packages marked with \u001b[33m⌅\u001b[39m have new versions available but compatibility constraints restrict them from upgrading. To see why use `status --outdated -m`\n"
     ]
    }
   ],
   "source": [
    "using Pkg\n",
    "cd(mktempdir())        # Move to a fresh temp directory\n",
    "Pkg.activate(\".\")      # Start a new project environment\n",
    "Pkg.add(\"PyCall\")      # This will pull in Conda cleanly"
   ]
  },
  {
   "cell_type": "code",
   "execution_count": 26,
   "id": "0c02dd5d-f567-4a43-8053-656495a61a58",
   "metadata": {},
   "outputs": [
    {
     "name": "stdout",
     "output_type": "stream",
     "text": [
      "/opt/anaconda3/bin/python3[\"/opt/anaconda3/lib/python312.zip\", \"/opt/anaconda3/lib/python3.12\", \"/opt/anaconda3/lib/python3.12/lib-dynload\", \"/Users/wbennett/.local/lib/python3.12/site-packages\", \"/opt/anaconda3/lib/python3.12/site-packages\", \"/opt/anaconda3/lib/python3.12/site-packages/aeosa\"]"
     ]
    }
   ],
   "source": [
    "using PyCall\n",
    "math = pyimport(\"math\")\n",
    "math.sqrt(2)\n",
    "# func = pyimport(\"test_bessel\")\n",
    "print(PyCall.python)\n",
    "sys = pyimport(\"sys\")\n",
    "print(sys.path)"
   ]
  },
  {
   "cell_type": "code",
   "execution_count": 36,
   "id": "8299c699-6f81-4c64-823d-2691953e2cbf",
   "metadata": {},
   "outputs": [
    {
     "data": {
      "text/plain": [
       "PyObject ['wbennett/Documents/Github/spectral_transport', 'Users/wbennett/Documents/Github/spectral_transport', '/opt/anaconda3/lib/python312.zip', '/opt/anaconda3/lib/python3.12', '/opt/anaconda3/lib/python3.12/lib-dynload', '/Users/wbennett/.local/lib/python3.12/site-packages', '/opt/anaconda3/lib/python3.12/site-packages', '/opt/anaconda3/lib/python3.12/site-packages/aeosa']"
      ]
     },
     "execution_count": 36,
     "metadata": {},
     "output_type": "execute_result"
    }
   ],
   "source": [
    "pushfirst!(PyVector(pyimport(\"sys\").\"path\"), \"Users/wbennett/Documents/Github/spectral_transport\")"
   ]
  },
  {
   "cell_type": "code",
   "execution_count": 38,
   "id": "ddfefd3c-e584-429a-a8eb-ea760a7ef9ca",
   "metadata": {},
   "outputs": [
    {
     "data": {
      "text/plain": [
       "pyinclude (generic function with 1 method)"
      ]
     },
     "execution_count": 38,
     "metadata": {},
     "output_type": "execute_result"
    }
   ],
   "source": [
    "pyinclude(fname) = (PyCall.pyeval_(read(fname, String), PyCall.pynamespace(Main), PyCall.pynamespace(Main), PyCall.Py_file_input, fname); nothing)"
   ]
  },
  {
   "cell_type": "code",
   "execution_count": 40,
   "id": "719583b9-036f-44d5-9281-dbb0c82e025a",
   "metadata": {},
   "outputs": [
    {
     "ename": "LoadError",
     "evalue": "SystemError: opening file \"k_eff.py\": No such file or directory",
     "output_type": "error",
     "traceback": [
      "SystemError: opening file \"k_eff.py\": No such file or directory",
      "",
      "Stacktrace:",
      " [1] systemerror(p::String, errno::Int32; extrainfo::Nothing)",
      "   @ Base ./error.jl:176",
      " [2] systemerror",
      "   @ ./error.jl:175 [inlined]",
      " [3] open(fname::String; lock::Bool, read::Nothing, write::Nothing, create::Nothing, truncate::Nothing, append::Nothing)",
      "   @ Base ./iostream.jl:293",
      " [4] open",
      "   @ ./iostream.jl:275 [inlined]",
      " [5] open(f::Base.var\"#433#434\"{String}, args::String; kwargs::@Kwargs{})",
      "   @ Base ./io.jl:394",
      " [6] open",
      "   @ ./io.jl:393 [inlined]",
      " [7] read",
      "   @ ./io.jl:486 [inlined]",
      " [8] pyinclude(fname::String)",
      "   @ Main ./In[38]:1",
      " [9] top-level scope",
      "   @ In[40]:1"
     ]
    }
   ],
   "source": [
    "pyinclude(\"k_eff.py\")"
   ]
  },
  {
   "cell_type": "code",
   "execution_count": null,
   "id": "ae684828-8242-4e18-808d-edef59da07d0",
   "metadata": {},
   "outputs": [],
   "source": []
  },
  {
   "cell_type": "code",
   "execution_count": null,
   "id": "2c24eff9-199d-40ad-9f31-dd3139389277",
   "metadata": {},
   "outputs": [],
   "source": []
  },
  {
   "cell_type": "code",
   "execution_count": null,
   "id": "a8a9da1c-65a1-4c14-b052-df7bae84a49b",
   "metadata": {},
   "outputs": [],
   "source": []
  }
 ],
 "metadata": {
  "kernelspec": {
   "display_name": "Julia 1.10.3",
   "language": "julia",
   "name": "julia-1.10"
  },
  "language_info": {
   "file_extension": ".jl",
   "mimetype": "application/julia",
   "name": "julia",
   "version": "1.10.3"
  }
 },
 "nbformat": 4,
 "nbformat_minor": 5
}
