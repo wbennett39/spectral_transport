{
 "cells": [
  {
   "cell_type": "code",
   "execution_count": null,
   "id": "fb4890b4-e649-4f3b-a33f-a8602ea1a37c",
   "metadata": {},
   "outputs": [],
   "source": [
    "using Pkg"
   ]
  },
  {
   "cell_type": "code",
   "execution_count": null,
   "id": "794ddda1-aa40-455e-a261-cac362113204",
   "metadata": {},
   "outputs": [],
   "source": []
  }
 ],
 "metadata": {
  "kernelspec": {
   "display_name": "",
   "name": ""
  },
  "language_info": {
   "name": ""
  }
 },
 "nbformat": 4,
 "nbformat_minor": 5
}
