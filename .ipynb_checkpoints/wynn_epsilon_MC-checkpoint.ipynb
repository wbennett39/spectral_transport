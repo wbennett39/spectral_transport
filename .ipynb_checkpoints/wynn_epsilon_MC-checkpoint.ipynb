{
 "cells": [
  {
   "cell_type": "code",
   "execution_count": 1,
   "id": "dd90ea0b",
   "metadata": {},
   "outputs": [],
   "source": [
    "import scipy.integrate as integrate\n",
    "import matplotlib.pyplot as plt\n",
    "import numpy as np\n",
    "import math\n",
    "def opts0(*args, **kwargs):\n",
    "       return {'limit':1, 'epsabs':1.5e-12, 'epsrel':1.5e-12}"
   ]
  },
  {
   "cell_type": "code",
   "execution_count": 2,
   "id": "9f65ded3",
   "metadata": {},
   "outputs": [
    {
     "name": "stderr",
     "output_type": "stream",
     "text": [
      "/opt/anaconda3/lib/python3.8/site-packages/scipy/integrate/_quadpack_py.py:1151: IntegrationWarning: The maximum number of subdivisions (1) has been achieved.\n",
      "  If increasing the limit yields no improvement it is advised to analyze \n",
      "  the integrand in order to determine the difficulties.  If the position of a \n",
      "  local difficulty can be determined (singularity, discontinuity) one will \n",
      "  probably gain from splitting up the interval and calling the integrator \n",
      "  on the subranges.  Perhaps a special-purpose integrator should be used.\n",
      "  quad_r = quad(f, low, high, args=args, full_output=self.full_output,\n"
     ]
    },
    {
     "data": {
      "text/plain": [
       "3.141669306677625"
      ]
     },
     "execution_count": 2,
     "metadata": {},
     "output_type": "execute_result"
    }
   ],
   "source": [
    "f2 = lambda x: 2*math.sqrt(1-x**2)\n",
    "integrate.nquad(f2,[[-1,1]], opts = [opts0])[0]"
   ]
  },
  {
   "cell_type": "code",
   "execution_count": 3,
   "id": "867695d1",
   "metadata": {},
   "outputs": [
    {
     "name": "stdout",
     "output_type": "stream",
     "text": [
      "Approximate integral: 0.0\n"
     ]
    }
   ],
   "source": [
    "def trapezoid_rule(func, a, b, n):\n",
    "    \"\"\"\n",
    "    Approximates the integral of a function using the trapezoid rule.\n",
    "\n",
    "    Parameters:\n",
    "        func: The function to integrate.\n",
    "        a, b: The interval [a, b] over which to integrate.\n",
    "        n: The number of trapezoids to use.\n",
    "\n",
    "    Returns:\n",
    "        The approximate integral of the function over the interval [a, b].\n",
    "    \"\"\"\n",
    "    h = (b - a) / n\n",
    "    integral = 0.5 * (func(a) + func(b))  # Area of first and last trapezoids\n",
    "\n",
    "    for i in range(1, n):\n",
    "        integral += func(a + i * h)\n",
    "\n",
    "    integral *= h\n",
    "    return integral\n",
    "\n",
    "# Example usage:\n",
    "def f(x):\n",
    "    return 2*math.sqrt(1-x**2)\n",
    "\n",
    "a = -1  # Lower limit\n",
    "b = 1  # Upper limit\n",
    "n = 1  # Number of trapezoids\n",
    "\n",
    "integral = trapezoid_rule(f, a, b, n)\n",
    "print(\"Approximate integral:\", integral)"
   ]
  },
  {
   "cell_type": "code",
   "execution_count": 4,
   "id": "7c782371",
   "metadata": {},
   "outputs": [],
   "source": [
    "def MC_integrator(nparticles):\n",
    "    count = 0 \n",
    "    for i in range(nparticles):\n",
    "        x = np.random.rand()*2-1\n",
    "        y = np.random.rand()*2-1\n",
    "        if math.sqrt(x**2 + y**2) <=1:\n",
    "            count += 1\n",
    "    return 4 * count / nparticles"
   ]
  },
  {
   "cell_type": "code",
   "execution_count": 23,
   "id": "592a1e29",
   "metadata": {},
   "outputs": [
    {
     "name": "stdout",
     "output_type": "stream",
     "text": [
      "3.1496\n",
      "3.1236\n",
      "3.1212\n",
      "3.1284\n",
      "3.1172\n",
      "3.1656\n",
      "3.1352\n"
     ]
    }
   ],
   "source": [
    "print(MC_integrator(10000))\n",
    "print(MC_integrator(10000))\n",
    "print(MC_integrator(10000))\n",
    "print(MC_integrator(10000))\n",
    "print(MC_integrator(10000))\n",
    "print(MC_integrator(10000))\n",
    "print(MC_integrator(10000))\n"
   ]
  },
  {
   "cell_type": "code",
   "execution_count": 31,
   "id": "6f46f574",
   "metadata": {},
   "outputs": [
    {
     "ename": "KeyboardInterrupt",
     "evalue": "",
     "output_type": "error",
     "traceback": [
      "\u001b[0;31m---------------------------------------------------------------------------\u001b[0m",
      "\u001b[0;31mKeyboardInterrupt\u001b[0m                         Traceback (most recent call last)",
      "Cell \u001b[0;32mIn[31], line 5\u001b[0m\n\u001b[1;32m      3\u001b[0m nfinal \u001b[38;5;241m=\u001b[39m \u001b[38;5;241m100000\u001b[39m\n\u001b[1;32m      4\u001b[0m \u001b[38;5;28;01mfor\u001b[39;00m n \u001b[38;5;129;01min\u001b[39;00m \u001b[38;5;28mrange\u001b[39m(\u001b[38;5;241m2\u001b[39m,nfinal):\n\u001b[0;32m----> 5\u001b[0m     slist\u001b[38;5;241m.\u001b[39mappend(\u001b[43mtrapezoid_rule\u001b[49m\u001b[43m(\u001b[49m\u001b[43mf\u001b[49m\u001b[43m,\u001b[49m\u001b[43m \u001b[49m\u001b[43ma\u001b[49m\u001b[43m,\u001b[49m\u001b[43m \u001b[49m\u001b[43mb\u001b[49m\u001b[43m,\u001b[49m\u001b[43m \u001b[49m\u001b[43mn\u001b[49m\u001b[43m)\u001b[49m)\n\u001b[1;32m      6\u001b[0m     MClist\u001b[38;5;241m.\u001b[39mappend(MC_integrator(n))\n",
      "Cell \u001b[0;32mIn[3], line 17\u001b[0m, in \u001b[0;36mtrapezoid_rule\u001b[0;34m(func, a, b, n)\u001b[0m\n\u001b[1;32m     14\u001b[0m integral \u001b[38;5;241m=\u001b[39m \u001b[38;5;241m0.5\u001b[39m \u001b[38;5;241m*\u001b[39m (func(a) \u001b[38;5;241m+\u001b[39m func(b))  \u001b[38;5;66;03m# Area of first and last trapezoids\u001b[39;00m\n\u001b[1;32m     16\u001b[0m \u001b[38;5;28;01mfor\u001b[39;00m i \u001b[38;5;129;01min\u001b[39;00m \u001b[38;5;28mrange\u001b[39m(\u001b[38;5;241m1\u001b[39m, n):\n\u001b[0;32m---> 17\u001b[0m     integral \u001b[38;5;241m+\u001b[39m\u001b[38;5;241m=\u001b[39m \u001b[43mfunc\u001b[49m\u001b[43m(\u001b[49m\u001b[43ma\u001b[49m\u001b[43m \u001b[49m\u001b[38;5;241;43m+\u001b[39;49m\u001b[43m \u001b[49m\u001b[43mi\u001b[49m\u001b[43m \u001b[49m\u001b[38;5;241;43m*\u001b[39;49m\u001b[43m \u001b[49m\u001b[43mh\u001b[49m\u001b[43m)\u001b[49m\n\u001b[1;32m     19\u001b[0m integral \u001b[38;5;241m*\u001b[39m\u001b[38;5;241m=\u001b[39m h\n\u001b[1;32m     20\u001b[0m \u001b[38;5;28;01mreturn\u001b[39;00m integral\n",
      "\u001b[0;31mKeyboardInterrupt\u001b[0m: "
     ]
    }
   ],
   "source": [
    "slist = []\n",
    "MClist = []\n",
    "nfinal = 100000\n",
    "for n in range(2,nfinal):\n",
    "    slist.append(trapezoid_rule(f, a, b, n))\n",
    "    MClist.append(MC_integrator(n))"
   ]
  },
  {
   "cell_type": "code",
   "execution_count": null,
   "id": "88bf5ed0",
   "metadata": {},
   "outputs": [],
   "source": []
  },
  {
   "cell_type": "code",
   "execution_count": null,
   "id": "dc72b9be",
   "metadata": {},
   "outputs": [],
   "source": [
    "def wynn_epsilon(sn, r):\n",
    "    \"\"\"Perform Wynn Epsilon Convergence Algorithm\"\"\"\n",
    "    r = int(r)\n",
    "    n = 2 * r + 1\n",
    "    e = np.zeros(shape=(n + 1, n + 1))\n",
    "\n",
    "    for i in range(1, n + 1):\n",
    "        e[i, 1] = sn[i - 1]\n",
    "\n",
    "    for i in range(3, n + 2):\n",
    "        for j in range(3, i + 1):\n",
    "            if e[i - 1, j - 2] - e[i - 2, j - 2] <= 1e-12:\n",
    "                delta = 0\n",
    "            else:\n",
    "                delta = 1 / (e[i - 1, j - 2] - e[i - 2, j - 2])\n",
    "            e[i - 1, j - 1] = e[i - 2, j - 3] + delta\n",
    "\n",
    "    er = e[:, 1:n + 1:2]\n",
    "    return er\n",
    "\n",
    "# Example usage:\n",
    "sequence = slist  # Example sequence\n",
    "it = 20\n",
    "accelerated_sequence = np.zeros(nfinal)\n",
    "accelerated_sequence_MC = np.zeros(nfinal)\n",
    "# for it in range(2, nfinal ):\n",
    "#     accelerated_sequence[it] = wynn_epsilon(sequence, np.floor((it) / 2-1))[-1,-1]\n",
    "#     accelerated_sequence_MC[it] = wynn_epsilon(MClist, np.floor((it) / 2-1))[-1,-1]\n",
    "# print(\"Original sequence:\", sequence)\n",
    "# print(\"Accelerated sequence:\", accelerated_sequence)"
   ]
  },
  {
   "cell_type": "code",
   "execution_count": null,
   "id": "83d281b1",
   "metadata": {},
   "outputs": [],
   "source": [
    "# plt.loglog(np.linspace(2, nfinal-1, len(slist)), np.abs(np.array(slist)-math.pi) )\n",
    "plt.loglog(np.linspace(2, nfinal-1, len(MClist)), np.abs(np.array(MClist)-math.pi), label = 'MC')\n",
    "# plt.loglog(np.linspace(2, nfinal-1, len(accelerated_sequence)), np.abs(np.array(accelerated_sequence)-math.pi) )\n",
    "# plt.loglog(np.linspace(2, nfinal-1, len(accelerated_sequence_MC)), np.abs(np.array(accelerated_sequence_MC)-math.pi) , label = 'Wynn accelerated')\n",
    "plt.loglog(np.linspace(2, nfinal-1, len(accelerated_sequence_MC)), np.linspace(2, nfinal-1, len(accelerated_sequence_MC))**-.5)\n",
    "plt.ylabel(r'$|f-\\pi$|', fontsize = 32)\n",
    "plt.xlabel('N', fontsize = 32)\n",
    "plt.legend()"
   ]
  },
  {
   "cell_type": "code",
   "execution_count": 14,
   "id": "b2df369e",
   "metadata": {},
   "outputs": [
    {
     "data": {
      "text/plain": [
       "3.095095095095095"
      ]
     },
     "execution_count": 14,
     "metadata": {},
     "output_type": "execute_result"
    }
   ],
   "source": [
    "MClist[-1]"
   ]
  },
  {
   "cell_type": "code",
   "execution_count": 39,
   "id": "559e6c4a",
   "metadata": {},
   "outputs": [],
   "source": [
    " def heaviside_vector( x):\n",
    "        return_array = np.ones(x.size)\n",
    "        for ix, xx in enumerate(x):\n",
    "            if xx < 0:\n",
    "                return_array[ix] = 0.0\n",
    "        return return_array\n",
    "def xi2(x, t, x0, c1, v0tilde):\n",
    "        return -x - c1 - v0tilde*(t)"
   ]
  },
  {
   "cell_type": "code",
   "execution_count": 43,
   "id": "28e2cf37",
   "metadata": {},
   "outputs": [],
   "source": [
    "def density(x,t):\n",
    "    c1 = 1\n",
    "    xi2x = xi2(x, t, 0, c1, 0.0035)\n",
    "    rho2 = 0.1\n",
    "    res = np.exp(-xi2x**2/2**2) * heaviside_vector(-xi2x - c1) + rho2*heaviside_vector(xi2x + c1)\n",
    "#     vec_test = self.heaviside_vector(-xi2x - c1)\n",
    "    return res"
   ]
  },
  {
   "cell_type": "code",
   "execution_count": 51,
   "id": "a5782f07",
   "metadata": {},
   "outputs": [],
   "source": [
    "xs = np.linspace(-5, 5, 250)"
   ]
  },
  {
   "cell_type": "code",
   "execution_count": 58,
   "id": "83092de6",
   "metadata": {},
   "outputs": [
    {
     "data": {
      "text/plain": [
       "1428.5714285714284"
      ]
     },
     "execution_count": 58,
     "metadata": {},
     "output_type": "execute_result"
    }
   ],
   "source": [
    "5/0.0035 "
   ]
  },
  {
   "cell_type": "code",
   "execution_count": 60,
   "id": "59630d7e",
   "metadata": {},
   "outputs": [
    {
     "data": {
      "text/plain": [
       "[<matplotlib.lines.Line2D at 0x7fe2724d0190>]"
      ]
     },
     "execution_count": 60,
     "metadata": {},
     "output_type": "execute_result"
    },
    {
     "data": {
      "image/png": "[encoded data removed]",
      "text/plain": [
       "<Figure size 640x480 with 1 Axes>"
      ]
     },
     "metadata": {},
     "output_type": "display_data"
    }
   ],
   "source": [
    "plt.plot(xs, density(xs, 0))\n",
    "plt.plot(xs, density(xs, 1428.))"
   ]
  },
  {
   "cell_type": "code",
   "execution_count": null,
   "id": "3b025fb9",
   "metadata": {},
   "outputs": [],
   "source": []
  },
  {
   "cell_type": "code",
   "execution_count": null,
   "id": "caa8dabc",
   "metadata": {},
   "outputs": [],
   "source": []
  }
 ],
 "metadata": {
  "kernelspec": {
   "display_name": "Python 3 (ipykernel)",
   "language": "python",
   "name": "python3"
  },
  "language_info": {
   "codemirror_mode": {
    "name": "ipython",
    "version": 3
   },
   "file_extension": ".py",
   "mimetype": "text/x-python",
   "name": "python",
   "nbconvert_exporter": "python",
   "pygments_lexer": "ipython3",
   "version": "3.8.17"
  }
 },
 "nbformat": 4,
 "nbformat_minor": 5
}
